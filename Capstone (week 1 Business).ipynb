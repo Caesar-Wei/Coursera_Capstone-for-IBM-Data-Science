{
    "cells": [
        {
            "cell_type": "markdown",
            "metadata": {
                "collapsed": true
            },
            "source": "# Capstone Project-The battle of neighborhoods"
        },
        {
            "cell_type": "markdown",
            "metadata": {},
            "source": "## Introduction: Business Problem"
        },
        {
            "cell_type": "markdown",
            "metadata": {},
            "source": "  ### Problem Description"
        },
        {
            "cell_type": "markdown",
            "metadata": {},
            "source": "In this project we will try to find an optimal location for a restaurant. Specifically, this report will be targeted to stakeholders interested in opening an **Chinese Restaurant** in **New York**, The USA.\n\nSince there are lots of cafes in Berlin we will try to detect **locations that are not already crowded with restaurants**. We are also particularly interested in **areas with no Chinese restaurants in vicinity**. We would also prefer locations **as close to city center as possible**, assuming that first two conditions are met.\n\nWe will use our data science powers to generate a few most promissing neighborhoods based on this criteria. Advantages of each area will then be clearly expressed so that best possible final location can be chosen by stakeholders."
        },
        {
            "cell_type": "markdown",
            "metadata": {},
            "source": "### Background Discusssion"
        },
        {
            "cell_type": "markdown",
            "metadata": {},
            "source": "New York, which is the financial center of the United States, is crowded with people. In NY, you can find people from various countries and different cultural backgrounds.\n\nAs a Chinese/Asian food lover, I decided to do a primary research to discover whether there are some places in the center of NewYork to operate a Chinese restaurant. I hope this report could help the stakeholders to find a business solution and introduce this kind of delicious food to the lovely people in NY."
        },
        {
            "cell_type": "code",
            "execution_count": null,
            "metadata": {},
            "outputs": [],
            "source": ""
        }
    ],
    "metadata": {
        "kernelspec": {
            "display_name": "Python 3.6",
            "language": "python",
            "name": "python3"
        },
        "language_info": {
            "codemirror_mode": {
                "name": "ipython",
                "version": 3
            },
            "file_extension": ".py",
            "mimetype": "text/x-python",
            "name": "python",
            "nbconvert_exporter": "python",
            "pygments_lexer": "ipython3",
            "version": "3.6.9"
        }
    },
    "nbformat": 4,
    "nbformat_minor": 1
}